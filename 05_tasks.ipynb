{
  "cells": [
    {
      "cell_type": "markdown",
      "metadata": {
        "id": "HzfokybU2fW3"
      },
      "source": [
        "### Task 01\n",
        "\n",
        "Write runtime program and kernel function that takes two float32 arrays `a` and `b` of length 100000 and then calculates `a` + `b`.</br>\n",
        "Result is stored in new array `c`. "
      ]
    },
    {
      "cell_type": "markdown",
      "metadata": {
        "id": "-FydR6MYa3Sm"
      },
      "source": [
        "---"
      ]
    },
    {
      "cell_type": "markdown",
      "metadata": {
        "id": "9Ocm3o-S5hyI"
      },
      "source": [
        "### Task 02\n",
        "\n",
        "Write runtime program and kernel function that normalizes n-dimensional vector. "
      ]
    },
    {
      "cell_type": "markdown",
      "metadata": {
        "id": "XKsP30ooa3S2"
      },
      "source": [
        "---"
      ]
    },
    {
      "attachments": {},
      "cell_type": "markdown",
      "metadata": {
        "id": "2Srk04SS9uGb"
      },
      "source": [
        "### Task 03\n",
        "\n",
        "Try to aproximate π using numerical methods. One mothod is to calculate value of $$\\int_0^1 \\frac{4}{1+x^{2}} dx$$"
      ]
    },
    {
      "cell_type": "markdown",
      "metadata": {
        "id": "0twbMpPJa3S9"
      },
      "source": [
        "---"
      ]
    },
    {
      "cell_type": "markdown",
      "metadata": {
        "id": "hO43Q0bwa3S-"
      },
      "source": [
        "### Task 04\n",
        "\n",
        "Write runtime program and kernel function that calculates sum of rows and columns of square matrix."
      ]
    },
    {
      "cell_type": "markdown",
      "metadata": {
        "id": "o2qYG20Ea3TF"
      },
      "source": [
        "---"
      ]
    },
    {
      "cell_type": "markdown",
      "metadata": {
        "id": "UhtGbVN6a3TH"
      },
      "source": [
        "### Task 05\n",
        "\n",
        "Write runtime code and kernel function that multiplies two square matricies `a` and `b` and then the result is stored in matrix `c`.</br>\n",
        "Try to modify kernel code so that multiplying rectangular matricies is possible."
      ]
    },
    {
      "cell_type": "markdown",
      "metadata": {
        "id": "c9W_5pr-a3TK"
      },
      "source": [
        "---"
      ]
    },
    {
      "attachments": {},
      "cell_type": "markdown",
      "metadata": {
        "id": "xuSyO7WPE0fM"
      },
      "source": [
        "### Task 06 (experimental)\n",
        "\n",
        "Write runtime code and kernel function that brute-forces these hash values:\n",
        "\n",
        "- `0x7abbd89e11981fa4`\n",
        "- `0xd236ec60449c1564`\n",
        "- `0x19147868d81ef5d5`\n",
        "- `0x3ba38583dbf4ea25`\n",
        "- `0xb01435ff5a6c2223`\n",
        "- `0xb29af5eaaea16f45`\n",
        "\n",
        "Hash function that was used `djb2`:\n",
        "```c \n",
        "unsigned long djb2_hash(char *str) {\n",
        "    unsigned long hash = 0xec724c61e180bb25; // initial seed\n",
        "    int i = 0;\n",
        "\n",
        "    while (str[i]) {\n",
        "        hash = hash * 33 ^ str[i];\n",
        "        i++;\n",
        "    }\n",
        "\n",
        "    return hash;\n",
        "}\n",
        "```\n"
      ]
    },
    {
      "cell_type": "markdown",
      "metadata": {
        "id": "q43WHByJFK7N"
      },
      "source": [
        "---"
      ]
    }
  ],
  "metadata": {
    "colab": {
      "collapsed_sections": [],
      "include_colab_link": true,
      "name": "04_array_tasks.ipynb",
      "provenance": []
    },
    "kernelspec": {
      "display_name": "Python 3.8.10 64-bit",
      "language": "python",
      "name": "python3"
    },
    "language_info": {
      "name": "python",
      "version": "3.8.10"
    },
    "vscode": {
      "interpreter": {
        "hash": "767d51c1340bd893661ea55ea3124f6de3c7a262a8b4abca0554b478b1e2ff90"
      }
    }
  },
  "nbformat": 4,
  "nbformat_minor": 0
}
