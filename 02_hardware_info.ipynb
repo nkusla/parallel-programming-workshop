{
  "cells": [
    {
      "cell_type": "markdown",
      "metadata": {
        "id": "CIGIr5ZFFcIA"
      },
      "source": [
        "# Accessing hardware and driver information using OpenCL API"
      ]
    },
    {
      "cell_type": "markdown",
      "metadata": {
        "id": "uDQRBCDtETJD"
      },
      "source": [
        "PyOpenCL is a wrapper around OpenCL API and Runtime library. With Python's package manager `pip` it can be installed on a VM instance. Installing an setting up implementation of OpenCL is not necessary because it is preinstalled into device drivers."
      ]
    },
    {
      "cell_type": "code",
      "execution_count": null,
      "metadata": {
        "id": "7b5gn5vIEQyJ"
      },
      "outputs": [],
      "source": [
        "!pip install pyopencl"
      ]
    },
    {
      "cell_type": "markdown",
      "metadata": {},
      "source": [
        "If you are running Nvidia GPU, following command will install necessary drivers:"
      ]
    },
    {
      "cell_type": "code",
      "execution_count": null,
      "metadata": {},
      "outputs": [],
      "source": [
        "!sudo apt install nvidia-cuda-toolkit"
      ]
    },
    {
      "cell_type": "markdown",
      "metadata": {
        "id": "MxNWz2jRK8uT"
      },
      "source": [
        "---"
      ]
    },
    {
      "cell_type": "code",
      "execution_count": null,
      "metadata": {
        "id": "J6WEeEhCKw15"
      },
      "outputs": [],
      "source": [
        "import pyopencl as cl"
      ]
    },
    {
      "cell_type": "markdown",
      "metadata": {
        "id": "v2ZYDmIXMGTu"
      },
      "source": [
        "Listing of available platforms"
      ]
    },
    {
      "cell_type": "code",
      "execution_count": null,
      "metadata": {
        "id": "Gd2DhC7KLQHS"
      },
      "outputs": [],
      "source": [
        "platforms_list = cl.get_platforms()\n",
        "print(\"Number of platforms: \", len(platforms_list))\n",
        "platform = platforms_list[0]"
      ]
    },
    {
      "cell_type": "markdown",
      "metadata": {
        "id": "zJFwIokQMUi0"
      },
      "source": [
        "## Information about platform (Name, Vendor, Version)"
      ]
    },
    {
      "cell_type": "code",
      "execution_count": null,
      "metadata": {
        "id": "61sU2JQINv1p"
      },
      "outputs": [],
      "source": [
        "print(\"Platform name:\", platform.get_info(cl.platform_info.NAME))\n",
        "print(\"Platform vendor:\", platform.get_info(cl.platform_info.VENDOR))\n",
        "print(\"Platform version:\", platform.get_info(cl.platform_info.VERSION))"
      ]
    },
    {
      "cell_type": "markdown",
      "metadata": {
        "id": "CUvAda4TOUGE"
      },
      "source": [
        "Listing available devices\n"
      ]
    },
    {
      "cell_type": "code",
      "execution_count": null,
      "metadata": {
        "id": "c1KPSkp6OuoX"
      },
      "outputs": [],
      "source": [
        "devices_list = platform.get_devices()\n",
        "print(\"Number of available device: \", len(devices_list))\n",
        "device = devices_list[0]"
      ]
    },
    {
      "cell_type": "markdown",
      "metadata": {
        "id": "JYcdsSDUPQkZ"
      },
      "source": [
        "## Information about device"
      ]
    },
    {
      "cell_type": "markdown",
      "metadata": {
        "id": "_C0hVlo0ZTH2"
      },
      "source": [
        "Device name and version info"
      ]
    },
    {
      "cell_type": "code",
      "execution_count": null,
      "metadata": {
        "id": "qtnNpWT_PZm9"
      },
      "outputs": [],
      "source": [
        "print(\"Device name:\", device.get_info(cl.device_info.NAME))\n",
        "print(\"Device version:\", device.get_info(cl.device_info.VERSION))"
      ]
    },
    {
      "cell_type": "markdown",
      "metadata": {
        "id": "rWTYp5qoZMrz"
      },
      "source": [
        "Compute units and clock frequency info"
      ]
    },
    {
      "cell_type": "code",
      "execution_count": null,
      "metadata": {
        "id": "zc1hB0IERdi6"
      },
      "outputs": [],
      "source": [
        "print(\"Number of compute units:\", device.get_info(cl.device_info.MAX_COMPUTE_UNITS))\n",
        "print(\"Clock frequency:\", device.get_info(cl.device_info.MAX_CLOCK_FREQUENCY), \"MHz\")"
      ]
    },
    {
      "cell_type": "markdown",
      "metadata": {
        "id": "89MbDcNpZK3n"
      },
      "source": [
        "Work-items info"
      ]
    },
    {
      "cell_type": "code",
      "execution_count": null,
      "metadata": {
        "id": "Gw3KEqNyZYiy"
      },
      "outputs": [],
      "source": [
        "print(\"Max work-group size:\", device.get_info(cl.device_info.MAX_WORK_GROUP_SIZE))\n",
        "print(\"Max work-items size:\", device.get_info(cl.device_info.MAX_WORK_ITEM_SIZES))\n",
        "print(\"Max work-items dimension:\", device.get_info(cl.device_info.MAX_WORK_ITEM_DIMENSIONS))"
      ]
    },
    {
      "cell_type": "markdown",
      "metadata": {
        "id": "WlarFgMSUJ7E"
      },
      "source": [
        "Memory info"
      ]
    },
    {
      "cell_type": "code",
      "execution_count": null,
      "metadata": {
        "id": "gwKVTE6iULhj"
      },
      "outputs": [],
      "source": [
        "# API always returns memory size in bytes\n",
        "\n",
        "global_mem_size = device.get_info(cl.device_info.GLOBAL_MEM_SIZE)/(1024**3)         # conversion to Gb\n",
        "local_mem_size = device.get_info(cl.device_info.LOCAL_MEM_SIZE)/1024                # conversion to Kb\n",
        "constant_buff_size = device.get_info(cl.device_info.MAX_CONSTANT_BUFFER_SIZE)/1024  # conversion to Kb\n",
        "\n",
        "print(\"Global memory size:\", global_mem_size, \"Gb\")\n",
        "print(\"Local memory size:\", local_mem_size, \"Kb\")\n",
        "print(\"Constant buffer size:\", constant_buff_size, \"Kb\")"
      ]
    }
  ],
  "metadata": {
    "accelerator": "GPU",
    "colab": {
      "include_colab_link": true,
      "name": "test.ipynb",
      "provenance": []
    },
    "gpuClass": "standard",
    "kernelspec": {
      "display_name": "Python 3.8.10 64-bit",
      "language": "python",
      "name": "python3"
    },
    "language_info": {
      "codemirror_mode": {
        "name": "ipython",
        "version": 3
      },
      "file_extension": ".py",
      "mimetype": "text/x-python",
      "name": "python",
      "nbconvert_exporter": "python",
      "pygments_lexer": "ipython3",
      "version": "3.10.10"
    },
    "orig_nbformat": 4,
    "vscode": {
      "interpreter": {
        "hash": "767d51c1340bd893661ea55ea3124f6de3c7a262a8b4abca0554b478b1e2ff90"
      }
    }
  },
  "nbformat": 4,
  "nbformat_minor": 0
}
