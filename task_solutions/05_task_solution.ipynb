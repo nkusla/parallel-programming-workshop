{
 "cells": [
  {
   "cell_type": "code",
   "execution_count": null,
   "metadata": {},
   "outputs": [],
   "source": [
    "!pip install pyopencl"
   ]
  },
  {
   "attachments": {},
   "cell_type": "markdown",
   "metadata": {},
   "source": [
    "### Kernel"
   ]
  },
  {
   "cell_type": "code",
   "execution_count": null,
   "metadata": {},
   "outputs": [],
   "source": [
    "%%writefile program.cl\n",
    "\n",
    "__kernel void matrix_mul(const int k, const int m, __global int* a, __global int* b, __global int* c) {\n",
    "\t\t\n",
    "\tint id_x = get_global_id(1);\n",
    "\tint id_y = get_global_id(0);\n",
    "\n",
    "\tc[id_y*m + id_x] = 0;\n",
    "\n",
    "\tfor(int i = 0; i < k; i++)\n",
    "\t\tc[id_y*m + id_x] += a[id_y*k + i] * b[i*m + id_x];\n",
    "}"
   ]
  },
  {
   "attachments": {},
   "cell_type": "markdown",
   "metadata": {},
   "source": [
    "### Runtime"
   ]
  },
  {
   "cell_type": "code",
   "execution_count": null,
   "metadata": {},
   "outputs": [],
   "source": [
    "import numpy as np\n",
    "import pyopencl as cl\n",
    "\n",
    "np.random.seed(0)\n",
    "\n",
    "N = 6\n",
    "M = 8\n",
    "K = 10\n",
    "RANGE = 5\n",
    "\n",
    "a = np.random.randint(-RANGE, RANGE, size=(N, K), dtype=np.int32)\n",
    "b = np.random.randint(-RANGE, RANGE, size=(K, M), dtype=np.int32)\n",
    "\n",
    "c = np.zeros((N, M), dtype=np.int32)\n",
    "\n",
    "ctx = cl.create_some_context()\n",
    "queue = cl.CommandQueue(ctx)\n",
    "\n",
    "mf = cl.mem_flags\n",
    "a_buf = cl.Buffer(ctx, mf.READ_ONLY | mf.COPY_HOST_PTR, hostbuf=a)\n",
    "b_buf = cl.Buffer(ctx, mf.READ_ONLY | mf.COPY_HOST_PTR, hostbuf=b)\n",
    "c_buf = cl.Buffer(ctx, mf.WRITE_ONLY | mf.COPY_HOST_PTR, hostbuf=c)\n",
    "\n",
    "program_src = open(\"program.cl\", \"r\").read()\n",
    "program = cl.Program(ctx, program_src)\n",
    "program.build()\n",
    "matrix_mul = program.matrix_mul\n",
    "\n",
    "matrix_mul(queue, c.shape, None, np.int32(K), np.int32(M), a_buf, b_buf, c_buf)\n",
    "cl.enqueue_copy(queue, c, c_buf)\n",
    "\n",
    "print(\"Results matching:\", np.allclose(a @ b, c))"
   ]
  }
 ],
 "metadata": {
  "kernelspec": {
   "display_name": "Python 3",
   "language": "python",
   "name": "python3"
  },
  "language_info": {
   "codemirror_mode": {
    "name": "ipython",
    "version": 3
   },
   "file_extension": ".py",
   "mimetype": "text/x-python",
   "name": "python",
   "nbconvert_exporter": "python",
   "pygments_lexer": "ipython3",
   "version": "3.10.10"
  },
  "orig_nbformat": 4
 },
 "nbformat": 4,
 "nbformat_minor": 2
}
