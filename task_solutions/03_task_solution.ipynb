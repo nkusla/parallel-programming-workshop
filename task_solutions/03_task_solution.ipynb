{
 "cells": [
  {
   "cell_type": "code",
   "execution_count": null,
   "metadata": {},
   "outputs": [],
   "source": [
    "!pip install pyopencl"
   ]
  },
  {
   "attachments": {},
   "cell_type": "markdown",
   "metadata": {},
   "source": [
    "### Kernel"
   ]
  },
  {
   "cell_type": "code",
   "execution_count": null,
   "metadata": {},
   "outputs": [],
   "source": [
    "%%writefile program.cl\n",
    "\n",
    "__kernel void integral_sum(__global float* dx, __global float* sums) {\n",
    "\tint id = get_global_id(0);\n",
    "\tint local_id = get_local_id(0);\n",
    "\tint group_id = get_group_id(0);\n",
    "\tint group_size = get_local_size(0);\n",
    "\tint i;\n",
    "\n",
    "\tfloat sum = 0.0f;\n",
    "\n",
    "\tfloat x = dx[0] * id;\n",
    "\tsums[id] = 4 / (1 + pow(x, 2.0f)) * dx[0];\n",
    "}"
   ]
  },
  {
   "attachments": {},
   "cell_type": "markdown",
   "metadata": {},
   "source": [
    "### Runtime"
   ]
  },
  {
   "cell_type": "code",
   "execution_count": null,
   "metadata": {},
   "outputs": [],
   "source": [
    "import numpy as np\n",
    "import pyopencl as cl\n",
    "\n",
    "ctx = cl.create_some_context()\n",
    "queue = cl.CommandQueue(ctx)\n",
    "\n",
    "STEP = 0.0001\n",
    "NUM_SUMS = int(1/STEP)\n",
    "\n",
    "dx = np.array([STEP], dtype=np.float32)\n",
    "sums = np.zeros((NUM_SUMS,), dtype=np.float32)\n",
    "\n",
    "mf = cl.mem_flags\n",
    "dx_buf = cl.Buffer(ctx, mf.READ_ONLY, size=dx.nbytes)\n",
    "sums_buf = cl.Buffer(ctx, mf.WRITE_ONLY, size=sums.nbytes)\n",
    "\n",
    "cl.enqueue_copy(queue, dx_buf, dx)\n",
    "cl.enqueue_copy(queue, sums_buf, sums)\n",
    "queue.finish()\n",
    "\n",
    "program_file = open(\"program.cl\", \"r\")\n",
    "program_src = program_file.read()\n",
    "\n",
    "program = cl.Program(ctx, program_src)\n",
    "program.build()\n",
    "integral_sum = program.integral_sum\n",
    "\n",
    "integral_sum(queue, (NUM_SUMS,), None, dx_buf, sums_buf)\n",
    "\n",
    "cl.enqueue_copy(queue, sums, sums_buf)\n",
    "print(\"π =\", np.sum(sums))"
   ]
  }
 ],
 "metadata": {
  "kernelspec": {
   "display_name": "Python 3",
   "language": "python",
   "name": "python3"
  },
  "language_info": {
   "codemirror_mode": {
    "name": "ipython",
    "version": 3
   },
   "file_extension": ".py",
   "mimetype": "text/x-python",
   "name": "python",
   "nbconvert_exporter": "python",
   "pygments_lexer": "ipython3",
   "version": "3.10.10"
  },
  "orig_nbformat": 4
 },
 "nbformat": 4,
 "nbformat_minor": 2
}
