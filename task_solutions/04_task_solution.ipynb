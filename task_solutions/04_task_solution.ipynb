{
 "cells": [
  {
   "cell_type": "code",
   "execution_count": null,
   "metadata": {},
   "outputs": [],
   "source": [
    "!pip install pyopencl"
   ]
  },
  {
   "attachments": {},
   "cell_type": "markdown",
   "metadata": {},
   "source": [
    "### Kernel"
   ]
  },
  {
   "cell_type": "code",
   "execution_count": null,
   "metadata": {},
   "outputs": [],
   "source": [
    "%%writefile program.cl\n",
    "\n",
    "__kernel void matrix_mul(__global int* n, __global int* a, __global int* b, __global int* c) {\n",
    "\tint id_x = get_global_id(0);\n",
    "\tint id_y = get_global_id(1);\n",
    "\tint width = n[0];\n",
    "\n",
    "\tc[id_y*width + id_x] = 0;\n",
    "\n",
    "\tfor(int i = 0; i < width; i++)\n",
    "\t\tc[id_y*width + id_x] += a[id_y*width + i] * b[i*width + id_x];\n",
    "\n",
    "}"
   ]
  },
  {
   "attachments": {},
   "cell_type": "markdown",
   "metadata": {},
   "source": [
    "### Runtime"
   ]
  },
  {
   "cell_type": "code",
   "execution_count": null,
   "metadata": {},
   "outputs": [],
   "source": [
    "import numpy as np\n",
    "import pyopencl as cl\n",
    "\n",
    "np.random.seed(0)\n",
    "\n",
    "WIDTH = 250\n",
    "RANGE = 5\n",
    "\n",
    "n = np.array([WIDTH], dtype=np.int32)\n",
    "a = np.random.randint(-RANGE, RANGE, size=(WIDTH, WIDTH), dtype=np.int32)\n",
    "b = np.random.randint(-RANGE, RANGE, size=(WIDTH, WIDTH), dtype=np.int32)\n",
    "\n",
    "c = np.zeros_like(a)\n",
    "\n",
    "ctx = cl.create_some_context()\n",
    "queue = cl.CommandQueue(ctx)\n",
    "\n",
    "mf = cl.mem_flags\n",
    "n_buf = cl.Buffer(ctx, mf.READ_WRITE | mf.COPY_HOST_PTR, hostbuf=n)\n",
    "a_buf = cl.Buffer(ctx, mf.READ_WRITE | mf.COPY_HOST_PTR, hostbuf=a)\n",
    "b_buf = cl.Buffer(ctx, mf.READ_WRITE | mf.COPY_HOST_PTR, hostbuf=b)\n",
    "c_buf = cl.Buffer(ctx, mf.READ_WRITE | mf.COPY_HOST_PTR, hostbuf=c)\n",
    "\n",
    "program_src = open(\"program.cl\", \"r\").read()\n",
    "program = cl.Program(ctx, program_src)\n",
    "program.build()\n",
    "matrix_mul = program.matrix_mul\n",
    "\n",
    "matrix_mul(queue, c.shape, None, n_buf, a_buf, b_buf, c_buf)\n",
    "cl.enqueue_copy(queue, c, c_buf)\n",
    "\n",
    "print(\"Results matching:\", np.allclose(a @ b, c))"
   ]
  }
 ],
 "metadata": {
  "kernelspec": {
   "display_name": "Python 3",
   "language": "python",
   "name": "python3"
  },
  "language_info": {
   "codemirror_mode": {
    "name": "ipython",
    "version": 3
   },
   "file_extension": ".py",
   "mimetype": "text/x-python",
   "name": "python",
   "nbconvert_exporter": "python",
   "pygments_lexer": "ipython3",
   "version": "3.10.10"
  },
  "orig_nbformat": 4
 },
 "nbformat": 4,
 "nbformat_minor": 2
}
